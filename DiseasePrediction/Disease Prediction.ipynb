{
 "cells": [
  {
   "cell_type": "code",
   "execution_count": 1,
   "id": "b152585d",
   "metadata": {},
   "outputs": [
    {
     "name": "stdout",
     "output_type": "stream",
     "text": [
      "Training Data Head:\n",
      "   itching  skin_rash  nodal_skin_eruptions  continuous_sneezing  shivering  \\\n",
      "0        1          1                     1                    0          0   \n",
      "1        0          1                     1                    0          0   \n",
      "2        1          0                     1                    0          0   \n",
      "3        1          1                     0                    0          0   \n",
      "4        1          1                     1                    0          0   \n",
      "\n",
      "   chills  joint_pain  stomach_pain  acidity  ulcers_on_tongue  ...  scurring  \\\n",
      "0       0           0             0        0                 0  ...         0   \n",
      "1       0           0             0        0                 0  ...         0   \n",
      "2       0           0             0        0                 0  ...         0   \n",
      "3       0           0             0        0                 0  ...         0   \n",
      "4       0           0             0        0                 0  ...         0   \n",
      "\n",
      "   skin_peeling  silver_like_dusting  small_dents_in_nails  \\\n",
      "0             0                    0                     0   \n",
      "1             0                    0                     0   \n",
      "2             0                    0                     0   \n",
      "3             0                    0                     0   \n",
      "4             0                    0                     0   \n",
      "\n",
      "   inflammatory_nails  blister  red_sore_around_nose  yellow_crust_ooze  \\\n",
      "0                   0        0                     0                  0   \n",
      "1                   0        0                     0                  0   \n",
      "2                   0        0                     0                  0   \n",
      "3                   0        0                     0                  0   \n",
      "4                   0        0                     0                  0   \n",
      "\n",
      "          prognosis  Unnamed: 133  \n",
      "0  Fungal infection           NaN  \n",
      "1  Fungal infection           NaN  \n",
      "2  Fungal infection           NaN  \n",
      "3  Fungal infection           NaN  \n",
      "4  Fungal infection           NaN  \n",
      "\n",
      "[5 rows x 134 columns]\n",
      "\n",
      "Training Data Columns:\n",
      "Index(['itching', 'skin_rash', 'nodal_skin_eruptions', 'continuous_sneezing',\n",
      "       'shivering', 'chills', 'joint_pain', 'stomach_pain', 'acidity',\n",
      "       'ulcers_on_tongue',\n",
      "       ...\n",
      "       'scurring', 'skin_peeling', 'silver_like_dusting',\n",
      "       'small_dents_in_nails', 'inflammatory_nails', 'blister',\n",
      "       'red_sore_around_nose', 'yellow_crust_ooze', 'prognosis',\n",
      "       'Unnamed: 133'],\n",
      "      dtype='object', length=134)\n",
      "\n",
      "Testing Data Head:\n",
      "   itching  skin_rash  nodal_skin_eruptions  continuous_sneezing  shivering  \\\n",
      "0        1          1                     1                    0          0   \n",
      "1        0          0                     0                    1          1   \n",
      "2        0          0                     0                    0          0   \n",
      "3        1          0                     0                    0          0   \n",
      "4        1          1                     0                    0          0   \n",
      "\n",
      "   chills  joint_pain  stomach_pain  acidity  ulcers_on_tongue  ...  \\\n",
      "0       0           0             0        0                 0  ...   \n",
      "1       1           0             0        0                 0  ...   \n",
      "2       0           0             1        1                 1  ...   \n",
      "3       0           0             0        0                 0  ...   \n",
      "4       0           0             1        0                 0  ...   \n",
      "\n",
      "   blackheads  scurring  skin_peeling  silver_like_dusting  \\\n",
      "0           0         0             0                    0   \n",
      "1           0         0             0                    0   \n",
      "2           0         0             0                    0   \n",
      "3           0         0             0                    0   \n",
      "4           0         0             0                    0   \n",
      "\n",
      "   small_dents_in_nails  inflammatory_nails  blister  red_sore_around_nose  \\\n",
      "0                     0                   0        0                     0   \n",
      "1                     0                   0        0                     0   \n",
      "2                     0                   0        0                     0   \n",
      "3                     0                   0        0                     0   \n",
      "4                     0                   0        0                     0   \n",
      "\n",
      "   yellow_crust_ooze            prognosis  \n",
      "0                  0     Fungal infection  \n",
      "1                  0              Allergy  \n",
      "2                  0                 GERD  \n",
      "3                  0  Chronic cholestasis  \n",
      "4                  0        Drug Reaction  \n",
      "\n",
      "[5 rows x 133 columns]\n",
      "\n",
      "Testing Data Columns:\n",
      "Index(['itching', 'skin_rash', 'nodal_skin_eruptions', 'continuous_sneezing',\n",
      "       'shivering', 'chills', 'joint_pain', 'stomach_pain', 'acidity',\n",
      "       'ulcers_on_tongue',\n",
      "       ...\n",
      "       'blackheads', 'scurring', 'skin_peeling', 'silver_like_dusting',\n",
      "       'small_dents_in_nails', 'inflammatory_nails', 'blister',\n",
      "       'red_sore_around_nose', 'yellow_crust_ooze', 'prognosis'],\n",
      "      dtype='object', length=133)\n"
     ]
    }
   ],
   "source": [
    "import pandas as pd\n",
    "\n",
    "# Load training and testing data\n",
    "train_data = pd.read_csv('data/Training.csv')\n",
    "test_data = pd.read_csv('data/Testing.csv')\n",
    "\n",
    "# Display the first few rows and column names\n",
    "print(\"Training Data Head:\")\n",
    "print(train_data.head())\n",
    "print(\"\\nTraining Data Columns:\")\n",
    "print(train_data.columns)\n",
    "\n",
    "print(\"\\nTesting Data Head:\")\n",
    "print(test_data.head())\n",
    "print(\"\\nTesting Data Columns:\")\n",
    "print(test_data.columns)"
   ]
  },
  {
   "cell_type": "code",
   "execution_count": 3,
   "id": "227f25bf",
   "metadata": {},
   "outputs": [
    {
     "name": "stdout",
     "output_type": "stream",
     "text": [
      "Updated Testing Data Columns:\n",
      "Index(['itching', 'skin_rash', 'nodal_skin_eruptions', 'continuous_sneezing',\n",
      "       'shivering', 'chills', 'joint_pain', 'stomach_pain', 'acidity',\n",
      "       'ulcers_on_tongue',\n",
      "       ...\n",
      "       'pus_filled_pimples', 'blackheads', 'scurring', 'skin_peeling',\n",
      "       'silver_like_dusting', 'small_dents_in_nails', 'inflammatory_nails',\n",
      "       'blister', 'red_sore_around_nose', 'yellow_crust_ooze'],\n",
      "      dtype='object', length=132)\n"
     ]
    }
   ],
   "source": [
    "# Remove 'prognosis' column from testing data\n",
    "test_data = test_data.drop(columns=['prognosis'])\n",
    "\n",
    "# Verify the changes\n",
    "print(\"Updated Testing Data Columns:\")\n",
    "print(test_data.columns)"
   ]
  },
  {
   "cell_type": "code",
   "execution_count": 4,
   "id": "6e612f7a",
   "metadata": {},
   "outputs": [
    {
     "name": "stdout",
     "output_type": "stream",
     "text": [
      "Missing values in Training Data:\n",
      "itching                 0\n",
      "skin_rash               0\n",
      "nodal_skin_eruptions    0\n",
      "continuous_sneezing     0\n",
      "shivering               0\n",
      "                       ..\n",
      "inflammatory_nails      0\n",
      "blister                 0\n",
      "red_sore_around_nose    0\n",
      "yellow_crust_ooze       0\n",
      "prognosis               0\n",
      "Length: 133, dtype: int64\n",
      "\n",
      "Missing values in Testing Data:\n",
      "itching                 0\n",
      "skin_rash               0\n",
      "nodal_skin_eruptions    0\n",
      "continuous_sneezing     0\n",
      "shivering               0\n",
      "                       ..\n",
      "small_dents_in_nails    0\n",
      "inflammatory_nails      0\n",
      "blister                 0\n",
      "red_sore_around_nose    0\n",
      "yellow_crust_ooze       0\n",
      "Length: 132, dtype: int64\n"
     ]
    }
   ],
   "source": [
    "# Check for missing values in training data\n",
    "print(\"Missing values in Training Data:\")\n",
    "print(train_data.isnull().sum())\n",
    "\n",
    "# Check for missing values in testing data\n",
    "print(\"\\nMissing values in Testing Data:\")\n",
    "print(test_data.isnull().sum())"
   ]
  },
  {
   "cell_type": "code",
   "execution_count": 6,
   "id": "69e0afde",
   "metadata": {},
   "outputs": [
    {
     "name": "stdout",
     "output_type": "stream",
     "text": [
      "Training Data Columns After Removal:\n",
      "Index(['itching', 'skin_rash', 'nodal_skin_eruptions', 'continuous_sneezing',\n",
      "       'shivering', 'chills', 'joint_pain', 'stomach_pain', 'acidity',\n",
      "       'ulcers_on_tongue',\n",
      "       ...\n",
      "       'blackheads', 'scurring', 'skin_peeling', 'silver_like_dusting',\n",
      "       'small_dents_in_nails', 'inflammatory_nails', 'blister',\n",
      "       'red_sore_around_nose', 'yellow_crust_ooze', 'prognosis'],\n",
      "      dtype='object', length=133)\n",
      "\n",
      "Features (X_train) shape: (4920, 132)\n",
      "Target (y_train) shape: (4920,)\n"
     ]
    }
   ],
   "source": [
    "# Check if 'prognosis' column was removed from training data\n",
    "print(\"Training Data Columns After Removal:\")\n",
    "print(train_data.columns)\n",
    "\n",
    "# Separate features and target variable\n",
    "X_train = train_data.drop(columns=['prognosis'])\n",
    "y_train = train_data['prognosis']\n",
    "\n",
    "# Display the shapes to confirm separation\n",
    "print(\"\\nFeatures (X_train) shape:\", X_train.shape)\n",
    "print(\"Target (y_train) shape:\", y_train.shape)"
   ]
  },
  {
   "cell_type": "code",
   "execution_count": 7,
   "id": "a956eef4",
   "metadata": {},
   "outputs": [
    {
     "name": "stdout",
     "output_type": "stream",
     "text": [
      "\n",
      "Unique classes and their encoded values:\n",
      "{'(vertigo) Paroymsal  Positional Vertigo': 0, 'AIDS': 1, 'Acne': 2, 'Alcoholic hepatitis': 3, 'Allergy': 4, 'Arthritis': 5, 'Bronchial Asthma': 6, 'Cervical spondylosis': 7, 'Chicken pox': 8, 'Chronic cholestasis': 9, 'Common Cold': 10, 'Dengue': 11, 'Diabetes ': 12, 'Dimorphic hemmorhoids(piles)': 13, 'Drug Reaction': 14, 'Fungal infection': 15, 'GERD': 16, 'Gastroenteritis': 17, 'Heart attack': 18, 'Hepatitis B': 19, 'Hepatitis C': 20, 'Hepatitis D': 21, 'Hepatitis E': 22, 'Hypertension ': 23, 'Hyperthyroidism': 24, 'Hypoglycemia': 25, 'Hypothyroidism': 26, 'Impetigo': 27, 'Jaundice': 28, 'Malaria': 29, 'Migraine': 30, 'Osteoarthristis': 31, 'Paralysis (brain hemorrhage)': 32, 'Peptic ulcer diseae': 33, 'Pneumonia': 34, 'Psoriasis': 35, 'Tuberculosis': 36, 'Typhoid': 37, 'Urinary tract infection': 38, 'Varicose veins': 39, 'hepatitis A': 40}\n"
     ]
    }
   ],
   "source": [
    "from sklearn.preprocessing import LabelEncoder\n",
    "\n",
    "# Initialize LabelEncoder\n",
    "le = LabelEncoder()\n",
    "\n",
    "# Fit and transform the target variable\n",
    "y_train_encoded = le.fit_transform(y_train)\n",
    "\n",
    "# Display the unique classes and their encoded values\n",
    "print(\"\\nUnique classes and their encoded values:\")\n",
    "print(dict(zip(le.classes_, range(len(le.classes_)))))"
   ]
  },
  {
   "cell_type": "code",
   "execution_count": 8,
   "id": "dd48f7b5",
   "metadata": {},
   "outputs": [
    {
     "name": "stdout",
     "output_type": "stream",
     "text": [
      "\n",
      "Scaled Features (X_train_scaled) shape: (4920, 132)\n",
      "Scaled Testing Features (X_test_scaled) shape: (42, 132)\n"
     ]
    }
   ],
   "source": [
    "from sklearn.preprocessing import StandardScaler\n",
    "\n",
    "# Initialize StandardScaler\n",
    "scaler = StandardScaler()\n",
    "\n",
    "# Fit and transform the training features\n",
    "X_train_scaled = scaler.fit_transform(X_train)\n",
    "\n",
    "# Transform the testing features using the same scaler\n",
    "X_test_scaled = scaler.transform(test_data)\n",
    "\n",
    "# Display the shapes to confirm scaling\n",
    "print(\"\\nScaled Features (X_train_scaled) shape:\", X_train_scaled.shape)\n",
    "print(\"Scaled Testing Features (X_test_scaled) shape:\", X_test_scaled.shape)"
   ]
  },
  {
   "cell_type": "code",
   "execution_count": 9,
   "id": "a7eaea3c",
   "metadata": {},
   "outputs": [
    {
     "name": "stdout",
     "output_type": "stream",
     "text": [
      "Training Accuracy: 1.0\n",
      "\n",
      "Confusion Matrix:\n",
      "[[120   0   0 ...   0   0   0]\n",
      " [  0 120   0 ...   0   0   0]\n",
      " [  0   0 120 ...   0   0   0]\n",
      " ...\n",
      " [  0   0   0 ... 120   0   0]\n",
      " [  0   0   0 ...   0 120   0]\n",
      " [  0   0   0 ...   0   0 120]]\n",
      "\n",
      "Classification Report:\n",
      "                                         precision    recall  f1-score   support\n",
      "\n",
      "(vertigo) Paroymsal  Positional Vertigo       1.00      1.00      1.00       120\n",
      "                                   AIDS       1.00      1.00      1.00       120\n",
      "                                   Acne       1.00      1.00      1.00       120\n",
      "                    Alcoholic hepatitis       1.00      1.00      1.00       120\n",
      "                                Allergy       1.00      1.00      1.00       120\n",
      "                              Arthritis       1.00      1.00      1.00       120\n",
      "                       Bronchial Asthma       1.00      1.00      1.00       120\n",
      "                   Cervical spondylosis       1.00      1.00      1.00       120\n",
      "                            Chicken pox       1.00      1.00      1.00       120\n",
      "                    Chronic cholestasis       1.00      1.00      1.00       120\n",
      "                            Common Cold       1.00      1.00      1.00       120\n",
      "                                 Dengue       1.00      1.00      1.00       120\n",
      "                              Diabetes        1.00      1.00      1.00       120\n",
      "           Dimorphic hemmorhoids(piles)       1.00      1.00      1.00       120\n",
      "                          Drug Reaction       1.00      1.00      1.00       120\n",
      "                       Fungal infection       1.00      1.00      1.00       120\n",
      "                                   GERD       1.00      1.00      1.00       120\n",
      "                        Gastroenteritis       1.00      1.00      1.00       120\n",
      "                           Heart attack       1.00      1.00      1.00       120\n",
      "                            Hepatitis B       1.00      1.00      1.00       120\n",
      "                            Hepatitis C       1.00      1.00      1.00       120\n",
      "                            Hepatitis D       1.00      1.00      1.00       120\n",
      "                            Hepatitis E       1.00      1.00      1.00       120\n",
      "                          Hypertension        1.00      1.00      1.00       120\n",
      "                        Hyperthyroidism       1.00      1.00      1.00       120\n",
      "                           Hypoglycemia       1.00      1.00      1.00       120\n",
      "                         Hypothyroidism       1.00      1.00      1.00       120\n",
      "                               Impetigo       1.00      1.00      1.00       120\n",
      "                               Jaundice       1.00      1.00      1.00       120\n",
      "                                Malaria       1.00      1.00      1.00       120\n",
      "                               Migraine       1.00      1.00      1.00       120\n",
      "                        Osteoarthristis       1.00      1.00      1.00       120\n",
      "           Paralysis (brain hemorrhage)       1.00      1.00      1.00       120\n",
      "                    Peptic ulcer diseae       1.00      1.00      1.00       120\n",
      "                              Pneumonia       1.00      1.00      1.00       120\n",
      "                              Psoriasis       1.00      1.00      1.00       120\n",
      "                           Tuberculosis       1.00      1.00      1.00       120\n",
      "                                Typhoid       1.00      1.00      1.00       120\n",
      "                Urinary tract infection       1.00      1.00      1.00       120\n",
      "                         Varicose veins       1.00      1.00      1.00       120\n",
      "                            hepatitis A       1.00      1.00      1.00       120\n",
      "\n",
      "                               accuracy                           1.00      4920\n",
      "                              macro avg       1.00      1.00      1.00      4920\n",
      "                           weighted avg       1.00      1.00      1.00      4920\n",
      "\n"
     ]
    }
   ],
   "source": [
    "from sklearn.linear_model import LogisticRegression\n",
    "from sklearn.metrics import accuracy_score, confusion_matrix, classification_report\n",
    "\n",
    "# Initialize Logistic Regression model\n",
    "logistic_model = LogisticRegression(max_iter=1000)\n",
    "\n",
    "# Fit the model on the training data\n",
    "logistic_model.fit(X_train_scaled, y_train_encoded)\n",
    "\n",
    "# Make predictions on the training data\n",
    "y_train_pred = logistic_model.predict(X_train_scaled)\n",
    "\n",
    "# Evaluate the model\n",
    "print(\"Training Accuracy:\", accuracy_score(y_train_encoded, y_train_pred))\n",
    "print(\"\\nConfusion Matrix:\")\n",
    "print(confusion_matrix(y_train_encoded, y_train_pred))\n",
    "print(\"\\nClassification Report:\")\n",
    "print(classification_report(y_train_encoded, y_train_pred, target_names=le.classes_))"
   ]
  },
  {
   "cell_type": "code",
   "execution_count": 10,
   "id": "93ddc075",
   "metadata": {},
   "outputs": [
    {
     "name": "stdout",
     "output_type": "stream",
     "text": [
      "\n",
      "Predictions on Testing Data:\n",
      "['Fungal infection' 'Allergy' 'GERD' 'Chronic cholestasis' 'Drug Reaction'\n",
      " 'Peptic ulcer diseae' 'AIDS' 'Diabetes ' 'Gastroenteritis'\n",
      " 'Bronchial Asthma' 'Hypertension ' 'Migraine' 'Cervical spondylosis'\n",
      " 'Paralysis (brain hemorrhage)' 'Jaundice' 'Malaria' 'Chicken pox'\n",
      " 'Dengue' 'Typhoid' 'hepatitis A' 'Hepatitis B' 'Hepatitis C'\n",
      " 'Hepatitis D' 'Hepatitis E' 'Alcoholic hepatitis' 'Tuberculosis'\n",
      " 'Common Cold' 'Pneumonia' 'Dimorphic hemmorhoids(piles)' 'Heart attack'\n",
      " 'Varicose veins' 'Hypothyroidism' 'Hyperthyroidism' 'Hypoglycemia'\n",
      " 'Osteoarthristis' 'Arthritis' '(vertigo) Paroymsal  Positional Vertigo'\n",
      " 'Acne' 'Urinary tract infection' 'Psoriasis' 'Impetigo' 'Impetigo']\n"
     ]
    }
   ],
   "source": [
    "# Make predictions on the testing data\n",
    "y_test_pred = logistic_model.predict(X_test_scaled)\n",
    "\n",
    "# Convert predictions back to original labels\n",
    "y_test_pred_labels = le.inverse_transform(y_test_pred)\n",
    "\n",
    "# Display the predictions\n",
    "print(\"\\nPredictions on Testing Data:\")\n",
    "print(y_test_pred_labels)"
   ]
  },
  {
   "cell_type": "code",
   "execution_count": 12,
   "id": "7a87eb90",
   "metadata": {},
   "outputs": [
    {
     "name": "stdout",
     "output_type": "stream",
     "text": [
      "Submission file created: data/submission.csv\n"
     ]
    }
   ],
   "source": [
    "# Prepare submission DataFrame\n",
    "submission = pd.DataFrame({\n",
    "    'Id': range(1, len(y_test_pred_labels) + 1),\n",
    "    'Predicted': y_test_pred_labels\n",
    "})\n",
    "\n",
    "# Save to CSV file \n",
    "submission.to_csv('data/submission.csv', index=False)\n",
    "\n",
    "print(\"Submission file created: data/submission.csv\")"
   ]
  },
  {
   "cell_type": "code",
   "execution_count": null,
   "id": "d19e64be",
   "metadata": {},
   "outputs": [],
   "source": []
  }
 ],
 "metadata": {
  "kernelspec": {
   "display_name": "Python 3 (ipykernel)",
   "language": "python",
   "name": "python3"
  },
  "language_info": {
   "codemirror_mode": {
    "name": "ipython",
    "version": 3
   },
   "file_extension": ".py",
   "mimetype": "text/x-python",
   "name": "python",
   "nbconvert_exporter": "python",
   "pygments_lexer": "ipython3",
   "version": "3.10.9"
  }
 },
 "nbformat": 4,
 "nbformat_minor": 5
}
